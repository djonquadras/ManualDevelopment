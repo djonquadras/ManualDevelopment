{
 "cells": [
  {
   "cell_type": "code",
   "execution_count": 1,
   "metadata": {},
   "outputs": [
    {
     "data": {
      "text/plain": [
       "'\\\\textit{Pylatex} is a Python package designed to simplify the creation and manipulation of LaTeX documents programmatically.  It provides a high-level interface for generating various LaTeX elements, including text, mathematics, tables, figures, and bibliographies, allowing users to automate the process of constructing complex documents through Python scripts. This avoids the need for manual LaTeX editing, enabling efficient generation of reproducible reports, articles, and other document types.\\n'"
      ]
     },
     "execution_count": 1,
     "metadata": {},
     "output_type": "execute_result"
    }
   ],
   "source": [
    "from parts.generativeAI import makeQuestion\n",
    "question = \"Please, explain what is the Pylatex package for python in one paragraph.\"\n",
    "\n",
    "result = makeQuestion(question)\n",
    "result"
   ]
  },
  {
   "cell_type": "code",
   "execution_count": 9,
   "metadata": {},
   "outputs": [
    {
     "name": "stdout",
     "output_type": "stream",
     "text": [
      "483\n",
      "467\n",
      "590\n",
      "0\n",
      "The Fashion For Future research lab is a multidisciplinary and multi-skilled environment focused on bridging the gap between academia and industry by connecting technological development with practical application. Within this framework, various events and training sessions are organized to empower fashion sector professionals in the use of artificial intelligence tools. One example is the training GenAI for Designers, that aimed to enhance the design process of new accessories. \\\\\n",
      "The technical and scientific lead is Prof. Dr. Romeo Bandinelli, Associate Professor in the Department of Industrial Engineering at the University of Florence (Italy) with expertise on management and innovation of industrial processes, with a special focus on the dynamics of product lifecycle management and supply chain operations. He is also a co-founder of Balance, a start-up that supports companies in production planning and continuous improvement initiatives. \\\\\n",
      "The team also includes the researcher Djonathan Luiz de Oliveira Quadras, who has extensive experience in the textile industry. He has worked on projects involving databases integration, development of managerial dashboards using BI tools, and the application of machine learning and AI for automated data analysis and reporting. Djonathan has also conducted research on the use of AI for production scheduling and maintenance optimization. His current doctoral project focuses on applying AI to fashion supply chains, with an emphasis on data-driven decision-making support for businesses. \\\\\n",
      " \\\\\n"
     ]
    }
   ],
   "source": [
    "from docx import Document\n",
    "\n",
    "def ler_docx(caminho_arquivo):\n",
    "    doc = Document(caminho_arquivo)\n",
    "    texto = []\n",
    "    for paragrafo in doc.paragraphs:\n",
    "        if len(paragrafo.text) > 0:\n",
    "            texto.append(paragrafo.text + r\" \\\\\")\n",
    "    return \"\\n\".join(texto)\n",
    "\n",
    "# Exemplo de uso\n",
    "conteudo = ler_docx(\"sources/University.docx\")\n",
    "print(conteudo)\n"
   ]
  },
  {
   "cell_type": "code",
   "execution_count": 15,
   "metadata": {},
   "outputs": [
    {
     "data": {
      "text/plain": [
       "'\\\\begin{table}[H]\\\\centering\\n\\\\caption{Requirements}\\n\\\\label{tab:requirements}\\n\\\\begin{tabular}{llrr}\\n\\\\toprule\\nRequirement & Quantity & Cost & Total \\\\\\\\\\n\\\\midrule\\nResearcher & 3 & 24000 & 72000 \\\\\\\\\\nComputer & 3 & 2000 & 6000 \\\\\\\\\\nLicense & - & 1000 & 1000 \\\\\\\\\\n\\\\bottomrule\\n\\\\end{tabular}\\n\\\\end{table}\\n'"
      ]
     },
     "execution_count": 15,
     "metadata": {},
     "output_type": "execute_result"
    }
   ],
   "source": [
    "import pandas as pd\n",
    "\n",
    "table = pd.read_excel(\"sources/requirements.xlsx\")\n",
    "\n",
    "table = table.to_latex(index=False, caption=\"Requirements\", label=\"tab:requirements\", position='H')\n",
    "\n",
    "table = table.replace(r\"begin{table}[H]\", r\"begin{table}[H]\\centering\")\n",
    "\n",
    "table"
   ]
  },
  {
   "cell_type": "code",
   "execution_count": 16,
   "metadata": {},
   "outputs": [
    {
     "name": "stdout",
     "output_type": "stream",
     "text": [
      "This is a paragraph.\n",
      "This is another paragraph.\n"
     ]
    }
   ],
   "source": [
    "import re\n",
    "\n",
    "text = \"\"\"This is a paragraph.\n",
    "\n",
    "    \n",
    "This is another paragraph.\n",
    "\n",
    "    \n",
    "\"\"\"\n",
    "\n",
    "# Replace multiple empty lines with a single newline\n",
    "clean_text = re.sub(r'^\\s*$', '', text, flags=re.MULTILINE)\n",
    "\n",
    "# Optional: remove any consecutive newlines\n",
    "clean_text = re.sub(r'\\n+', '\\n', clean_text).strip()\n",
    "\n",
    "print(clean_text)\n"
   ]
  },
  {
   "cell_type": "code",
   "execution_count": 29,
   "metadata": {},
   "outputs": [
    {
     "ename": "TypeError",
     "evalue": "make_svg_for_tasks() got an unexpected keyword argument 'width'",
     "output_type": "error",
     "traceback": [
      "\u001b[1;31m---------------------------------------------------------------------------\u001b[0m",
      "\u001b[1;31mTypeError\u001b[0m                                 Traceback (most recent call last)",
      "Cell \u001b[1;32mIn[29], line 64\u001b[0m\n\u001b[0;32m     61\u001b[0m projeto\u001b[38;5;241m.\u001b[39madd_task(tarefa5)\n\u001b[0;32m     63\u001b[0m \u001b[38;5;66;03m# Gerando o gráfico e salvando como imagem\u001b[39;00m\n\u001b[1;32m---> 64\u001b[0m \u001b[43mprojeto\u001b[49m\u001b[38;5;241;43m.\u001b[39;49m\u001b[43mmake_svg_for_tasks\u001b[49m\u001b[43m(\u001b[49m\u001b[43mfilename\u001b[49m\u001b[38;5;241;43m=\u001b[39;49m\u001b[38;5;124;43m'\u001b[39;49m\u001b[38;5;124;43mprojeto_gantt.svg\u001b[39;49m\u001b[38;5;124;43m'\u001b[39;49m\u001b[43m,\u001b[49m\u001b[43m \u001b[49m\u001b[43mwidth\u001b[49m\u001b[38;5;241;43m=\u001b[39;49m\u001b[38;5;241;43m1200\u001b[39;49m\u001b[43m,\u001b[49m\u001b[43m \u001b[49m\u001b[43mtoday\u001b[49m\u001b[38;5;241;43m=\u001b[39;49m\u001b[43mdatetime\u001b[49m\u001b[38;5;241;43m.\u001b[39;49m\u001b[43mdate\u001b[49m\u001b[38;5;241;43m.\u001b[39;49m\u001b[43mtoday\u001b[49m\u001b[43m(\u001b[49m\u001b[43m)\u001b[49m\u001b[43m)\u001b[49m\n\u001b[0;32m     70\u001b[0m drawing \u001b[38;5;241m=\u001b[39m svg2rlg(\u001b[38;5;124m\"\u001b[39m\u001b[38;5;124mprojeto_gantt.svg\u001b[39m\u001b[38;5;124m\"\u001b[39m)\n\u001b[0;32m     71\u001b[0m renderPDF\u001b[38;5;241m.\u001b[39mdrawToFile(drawing, \u001b[38;5;124m\"\u001b[39m\u001b[38;5;124mprojeto_gantt.pdf\u001b[39m\u001b[38;5;124m\"\u001b[39m)\n",
      "\u001b[1;31mTypeError\u001b[0m: make_svg_for_tasks() got an unexpected keyword argument 'width'"
     ]
    }
   ],
   "source": [
    "import gantt\n",
    "import datetime\n",
    "from svglib.svglib import svg2rlg\n",
    "from reportlab.graphics import renderPDF\n",
    "\n",
    "\n",
    "# Criando recursos (pessoas, equipes, etc.)\n",
    "Researcher1 = gantt.Resource('Researcher 1')\n",
    "Researcher2 = gantt.Resource('Researcher 2')\n",
    "\n",
    "# Criando tarefas com duração e recursos atribuídos\n",
    "tarefa1 = gantt.Task(\n",
    "    name='Data Collection',\n",
    "    start=datetime.date(2025, 6, 30),\n",
    "    duration=15,\n",
    "    resources=[Researcher1, Researcher2]\n",
    ")\n",
    "\n",
    "tarefa2 = gantt.Task(\n",
    "    name='Machine Learning Modelling',\n",
    "    duration=30,\n",
    "    depends_of=[tarefa1],\n",
    "    resources=[Researcher1]\n",
    ")\n",
    "\n",
    "tarefa3 = gantt.Task(\n",
    "    name='Prompt Modelling for LLM',\n",
    "    duration=15,\n",
    "    depends_of=[tarefa2],\n",
    "    resources=[Researcher1, Researcher2]\n",
    ")\n",
    "\n",
    "tarefa4 = gantt.Task(\n",
    "    name='Template Development',\n",
    "    duration=45,\n",
    "    depends_of=[tarefa1],\n",
    "    resources=[Researcher2]\n",
    ")\n",
    "\n",
    "tarefa5 = gantt.Task(\n",
    "    name='Validation',\n",
    "    duration=10,\n",
    "    depends_of=[tarefa2, tarefa3],\n",
    "    resources=[Researcher1, Researcher2]\n",
    ")\n",
    "\n",
    "\n",
    "tarefa1.font_size = 40\n",
    "tarefa2.font_size = 20\n",
    "tarefa3.font_size = 20\n",
    "tarefa4.font_size = 20\n",
    "tarefa5.font_size = 20\n",
    "\n",
    "\n",
    "# Criando o projeto e adicionando tarefas\n",
    "projeto = gantt.Project(name='Project Tasks')\n",
    "projeto.add_task(tarefa1)\n",
    "projeto.add_task(tarefa2)\n",
    "projeto.add_task(tarefa3)\n",
    "projeto.add_task(tarefa4)\n",
    "projeto.add_task(tarefa5)\n",
    "\n",
    "# Gerando o gráfico e salvando como imagem\n",
    "projeto.make_svg_for_tasks(filename='projeto_gantt.svg', today=datetime.date.today(), )\n",
    "\n",
    "\n",
    "\n",
    "\n",
    "\n",
    "drawing = svg2rlg(\"projeto_gantt.svg\")\n",
    "renderPDF.drawToFile(drawing, \"projeto_gantt.pdf\")\n"
   ]
  },
  {
   "cell_type": "code",
   "execution_count": 33,
   "metadata": {},
   "outputs": [
    {
     "ename": "AttributeError",
     "evalue": "'NoneType' object has no attribute 'weekday'",
     "output_type": "error",
     "traceback": [
      "\u001b[1;31m---------------------------------------------------------------------------\u001b[0m",
      "\u001b[1;31mAttributeError\u001b[0m                            Traceback (most recent call last)",
      "Cell \u001b[1;32mIn[33], line 63\u001b[0m\n\u001b[0;32m     60\u001b[0m projeto\u001b[38;5;241m.\u001b[39madd_task(tarefa5)\n\u001b[0;32m     62\u001b[0m \u001b[38;5;66;03m# Gerando o gráfico e salvando como imagem\u001b[39;00m\n\u001b[1;32m---> 63\u001b[0m \u001b[43mprojeto\u001b[49m\u001b[38;5;241;43m.\u001b[39;49m\u001b[43mmake_svg_for_tasks\u001b[49m\u001b[43m(\u001b[49m\u001b[43mfilename\u001b[49m\u001b[38;5;241;43m=\u001b[39;49m\u001b[38;5;124;43m'\u001b[39;49m\u001b[38;5;124;43mprojeto_gantt.svg\u001b[39;49m\u001b[38;5;124;43m'\u001b[39;49m\u001b[43m,\u001b[49m\u001b[43m \u001b[49m\u001b[43mstart\u001b[49m\u001b[38;5;241;43m=\u001b[39;49m\u001b[43mdatetime\u001b[49m\u001b[38;5;241;43m.\u001b[39;49m\u001b[43mdate\u001b[49m\u001b[38;5;241;43m.\u001b[39;49m\u001b[43mtoday\u001b[49m\u001b[43m(\u001b[49m\u001b[43m)\u001b[49m\u001b[43m \u001b[49m\u001b[43m)\u001b[49m\n\u001b[0;32m     69\u001b[0m drawing \u001b[38;5;241m=\u001b[39m svg2rlg(\u001b[38;5;124m\"\u001b[39m\u001b[38;5;124mprojeto_gantt.svg\u001b[39m\u001b[38;5;124m\"\u001b[39m)\n\u001b[0;32m     70\u001b[0m renderPDF\u001b[38;5;241m.\u001b[39mdrawToFile(drawing, \u001b[38;5;124m\"\u001b[39m\u001b[38;5;124mprojeto_gantt.pdf\u001b[39m\u001b[38;5;124m\"\u001b[39m)\n",
      "File \u001b[1;32mc:\\Github\\ManualDevelopment\\.env\\lib\\site-packages\\gantt\\gantt.py:1819\u001b[0m, in \u001b[0;36mProject.make_svg_for_tasks\u001b[1;34m(self, filename, today, start, end, scale, title_align_on_left, offset)\u001b[0m\n\u001b[0;32m   1816\u001b[0m     start_date \u001b[38;5;241m=\u001b[39m start\n\u001b[0;32m   1818\u001b[0m \u001b[38;5;28;01mif\u001b[39;00m end \u001b[38;5;129;01mis\u001b[39;00m \u001b[38;5;28;01mNone\u001b[39;00m:\n\u001b[1;32m-> 1819\u001b[0m     end_date \u001b[38;5;241m=\u001b[39m \u001b[38;5;28;43mself\u001b[39;49m\u001b[38;5;241;43m.\u001b[39;49m\u001b[43mend_date\u001b[49m\u001b[43m(\u001b[49m\u001b[43m)\u001b[49m \n\u001b[0;32m   1820\u001b[0m \u001b[38;5;28;01melse\u001b[39;00m:\n\u001b[0;32m   1821\u001b[0m     end_date \u001b[38;5;241m=\u001b[39m end\n",
      "File \u001b[1;32mc:\\Github\\ManualDevelopment\\.env\\lib\\site-packages\\gantt\\gantt.py:2087\u001b[0m, in \u001b[0;36mProject.end_date\u001b[1;34m(self)\u001b[0m\n\u001b[0;32m   2084\u001b[0m     __LOG__\u001b[38;5;241m.\u001b[39mwarning(\u001b[38;5;124m'\u001b[39m\u001b[38;5;124m** Empty project : \u001b[39m\u001b[38;5;132;01m{0}\u001b[39;00m\u001b[38;5;124m'\u001b[39m\u001b[38;5;241m.\u001b[39mformat(\u001b[38;5;28mself\u001b[39m\u001b[38;5;241m.\u001b[39mname))\n\u001b[0;32m   2085\u001b[0m     \u001b[38;5;28;01mreturn\u001b[39;00m datetime\u001b[38;5;241m.\u001b[39mdate(\u001b[38;5;241m1970\u001b[39m, \u001b[38;5;241m1\u001b[39m, \u001b[38;5;241m1\u001b[39m)\n\u001b[1;32m-> 2087\u001b[0m last \u001b[38;5;241m=\u001b[39m \u001b[38;5;28;43mself\u001b[39;49m\u001b[38;5;241;43m.\u001b[39;49m\u001b[43mtasks\u001b[49m\u001b[43m[\u001b[49m\u001b[38;5;241;43m0\u001b[39;49m\u001b[43m]\u001b[49m\u001b[38;5;241;43m.\u001b[39;49m\u001b[43mend_date\u001b[49m\u001b[43m(\u001b[49m\u001b[43m)\u001b[49m\n\u001b[0;32m   2088\u001b[0m \u001b[38;5;28;01mfor\u001b[39;00m t \u001b[38;5;129;01min\u001b[39;00m \u001b[38;5;28mself\u001b[39m\u001b[38;5;241m.\u001b[39mtasks:\n\u001b[0;32m   2089\u001b[0m     \u001b[38;5;28;01mif\u001b[39;00m t\u001b[38;5;241m.\u001b[39mend_date() \u001b[38;5;241m>\u001b[39m last:\n",
      "File \u001b[1;32mc:\\Github\\ManualDevelopment\\.env\\lib\\site-packages\\gantt\\gantt.py:910\u001b[0m, in \u001b[0;36mTask.end_date\u001b[1;34m(self)\u001b[0m\n\u001b[0;32m    908\u001b[0m duration \u001b[38;5;241m=\u001b[39m \u001b[38;5;28mself\u001b[39m\u001b[38;5;241m.\u001b[39mduration   \n\u001b[0;32m    909\u001b[0m \u001b[38;5;28;01mwhile\u001b[39;00m duration \u001b[38;5;241m>\u001b[39m \u001b[38;5;241m1\u001b[39m \u001b[38;5;129;01mor\u001b[39;00m (current_day\u001b[38;5;241m.\u001b[39mweekday() \u001b[38;5;129;01min\u001b[39;00m _not_worked_days() \u001b[38;5;129;01mor\u001b[39;00m current_day \u001b[38;5;129;01min\u001b[39;00m VACATIONS):\n\u001b[1;32m--> 910\u001b[0m     \u001b[38;5;28;01mif\u001b[39;00m \u001b[38;5;129;01mnot\u001b[39;00m (\u001b[43mcurrent_day\u001b[49m\u001b[38;5;241;43m.\u001b[39;49m\u001b[43mweekday\u001b[49m() \u001b[38;5;129;01min\u001b[39;00m _not_worked_days() \u001b[38;5;129;01mor\u001b[39;00m current_day \u001b[38;5;129;01min\u001b[39;00m VACATIONS):\n\u001b[0;32m    911\u001b[0m         real_duration \u001b[38;5;241m=\u001b[39m real_duration \u001b[38;5;241m+\u001b[39m \u001b[38;5;241m1\u001b[39m\n\u001b[0;32m    912\u001b[0m         duration \u001b[38;5;241m-\u001b[39m\u001b[38;5;241m=\u001b[39m \u001b[38;5;241m1\u001b[39m\n",
      "\u001b[1;31mAttributeError\u001b[0m: 'NoneType' object has no attribute 'weekday'"
     ]
    }
   ],
   "source": [
    "import gantt\n",
    "import datetime\n",
    "from svglib.svglib import svg2rlg\n",
    "from reportlab.graphics import renderPDF\n",
    "\n",
    "\n",
    "# Criando recursos (pessoas, equipes, etc.)\n",
    "Researcher1 = gantt.Resource('Researcher 1')\n",
    "Researcher2 = gantt.Resource('Researcher 2')\n",
    "\n",
    "# Criando tarefas com duração e recursos atribuídos\n",
    "tarefa1 = gantt.Task(\n",
    "    name='Data Collection',\n",
    "    duration=15,\n",
    "    resources=[Researcher1, Researcher2]\n",
    ")\n",
    "\n",
    "tarefa2 = gantt.Task(\n",
    "    name='Machine Learning Modelling',\n",
    "    duration=30,\n",
    "    depends_of=[tarefa1],\n",
    "    resources=[Researcher1]\n",
    ")\n",
    "\n",
    "tarefa3 = gantt.Task(\n",
    "    name='Prompt Modelling for LLM',\n",
    "    duration=15,\n",
    "    depends_of=[tarefa2],\n",
    "    resources=[Researcher1, Researcher2]\n",
    ")\n",
    "\n",
    "tarefa4 = gantt.Task(\n",
    "    name='Template Development',\n",
    "    duration=45,\n",
    "    depends_of=[tarefa1],\n",
    "    resources=[Researcher2]\n",
    ")\n",
    "\n",
    "tarefa5 = gantt.Task(\n",
    "    name='Validation',\n",
    "    duration=10,\n",
    "    depends_of=[tarefa2, tarefa3],\n",
    "    resources=[Researcher1, Researcher2]\n",
    ")\n",
    "\n",
    "\n",
    "tarefa1.font_size = 40\n",
    "tarefa2.font_size = 20\n",
    "tarefa3.font_size = 20\n",
    "tarefa4.font_size = 20\n",
    "tarefa5.font_size = 20\n",
    "\n",
    "\n",
    "# Criando o projeto e adicionando tarefas\n",
    "projeto = gantt.Project(name='Project Tasks')\n",
    "projeto.add_task(tarefa1)\n",
    "projeto.add_task(tarefa2)\n",
    "projeto.add_task(tarefa3)\n",
    "projeto.add_task(tarefa4)\n",
    "projeto.add_task(tarefa5)\n",
    "\n",
    "# Gerando o gráfico e salvando como imagem\n",
    "projeto.make_svg_for_tasks(filename='projeto_gantt.svg', start=datetime.date.today() )\n",
    "\n",
    "\n",
    "\n",
    "\n",
    "\n",
    "drawing = svg2rlg(\"projeto_gantt.svg\")\n",
    "renderPDF.drawToFile(drawing, \"projeto_gantt.pdf\")\n"
   ]
  },
  {
   "cell_type": "code",
   "execution_count": 53,
   "metadata": {},
   "outputs": [
    {
     "name": "stdout",
     "output_type": "stream",
     "text": [
      "<docx.text.paragraph.Paragraph object at 0x000001BEAABDA0A0>\n",
      "<docx.text.paragraph.Paragraph object at 0x000001BEAABDA1F0>\n",
      "<docx.text.paragraph.Paragraph object at 0x000001BEAABDA040>\n",
      "<docx.text.paragraph.Paragraph object at 0x000001BEAABDAB80>\n",
      "<docx.text.paragraph.Paragraph object at 0x000001BEAABDA9D0>\n",
      "<docx.text.paragraph.Paragraph object at 0x000001BEAABDAFD0>\n",
      "<docx.text.paragraph.Paragraph object at 0x000001BEAABDA4F0>\n",
      "<docx.text.paragraph.Paragraph object at 0x000001BEAABDAF40>\n",
      "<docx.text.paragraph.Paragraph object at 0x000001BEAABDA1C0>\n",
      "<docx.text.paragraph.Paragraph object at 0x000001BEAABDA670>\n",
      "<docx.text.paragraph.Paragraph object at 0x000001BEAABDA370>\n",
      "<docx.text.paragraph.Paragraph object at 0x000001BEAABDADC0>\n",
      "[<docx.text.paragraph.Paragraph object at 0x000001BEAABDA1F0>, <docx.text.paragraph.Paragraph object at 0x000001BEAABDAB80>, <docx.text.paragraph.Paragraph object at 0x000001BEAABDAF40>, <docx.text.paragraph.Paragraph object at 0x000001BEAABDADC0>]\n"
     ]
    }
   ],
   "source": [
    "from docx import Document\n",
    "import os\n",
    "import base64\n",
    "import shutil\n",
    "import docx2txt as d2t\n",
    "\n",
    "def docx_to_latex(docx_path, image_output_dir=\"docx_images\"):\n",
    "    doc = Document(docx_path)\n",
    "    d2t.process(docx_path, image_output_dir)\n",
    "    \n",
    "    image_paragraphs = []\n",
    "    text = []\n",
    "    for par in doc.paragraphs:\n",
    "        print(par)\n",
    "        if 'graphicData' in par._p.xml:\n",
    "            image_paragraphs.append(par)\n",
    "    \n",
    "    print(image_paragraphs)\n",
    "    \n",
    "    return(text)\n",
    "\n",
    "\n",
    "latex_content = docx_to_latex(\"sources/Frigel.docx\")"
   ]
  },
  {
   "cell_type": "code",
   "execution_count": 52,
   "metadata": {},
   "outputs": [
    {
     "name": "stdout",
     "output_type": "stream",
     "text": [
      "<docx.text.paragraph.Paragraph object at 0x000001BEA9638CA0>\n",
      "<docx.text.paragraph.Paragraph object at 0x000001BEA9638C70>\n",
      "<docx.text.paragraph.Paragraph object at 0x000001BEA96382E0>\n",
      "[<docx.text.paragraph.Paragraph object at 0x000001BEA9638C70>]\n"
     ]
    }
   ],
   "source": [
    "from docx import Document\n",
    "import os\n",
    "import base64\n",
    "import shutil\n",
    "import docx2txt as d2t\n",
    "\n",
    "def extract_images(docx_path, image_output_dir):\n",
    "    # Extrai imagens diretamente do .docx (é um arquivo .zip)\n",
    "    import zipfile\n",
    "    with zipfile.ZipFile(docx_path, 'r') as docx_zip:\n",
    "        files = docx_zip.namelist()\n",
    "        image_files = [f for f in files if f.startswith('word/media/')]\n",
    "\n",
    "        os.makedirs(image_output_dir, exist_ok=True)\n",
    "        extracted = []\n",
    "        for img_file in image_files:\n",
    "            img_name = os.path.basename(img_file)\n",
    "            target_path = os.path.join(image_output_dir, img_name)\n",
    "            with open(target_path, 'wb') as f:\n",
    "                f.write(docx_zip.read(img_file))\n",
    "            extracted.append(img_name)\n",
    "        return extracted\n",
    "\n",
    "def docx_to_latex(docx_path, image_output_dir=\"docx_images\"):\n",
    "    document = Document(docx_path)\n",
    "    latex_output = []\n",
    "    image_map = extract_images(docx_path, image_output_dir)\n",
    "    image_index = 0\n",
    "    text = d2t.process(docx_path, image_output_dir)\n",
    "    \n",
    "    \n",
    "    \n",
    "    return(text)\n",
    "    \"\"\"\n",
    "    for block in document.element.body:\n",
    "        \n",
    "        if block.tag.endswith('p'):\n",
    "            para = block\n",
    "            text = ''.join([node.text or '' for node in para.iter() if node.tag.endswith('t')])\n",
    "            if text.strip():\n",
    "                style = para.xpath(\"./w:pPr/w:pStyle\")\n",
    "                if style:\n",
    "                    style_val = style[0].get('{http://schemas.openxmlformats.org/wordprocessingml/2006/main}val')\n",
    "                    if style_val.startswith(\"Heading\"):\n",
    "                        level = int(style_val[-1])\n",
    "                        section_prefix = '\\\\' + 'sub' * (level - 1) + 'section'\n",
    "                        latex_output.append(f\"{section_prefix}{{{text}}}\")\n",
    "\n",
    "                    else:\n",
    "                        latex_output.append(text)\n",
    "                else:\n",
    "                    latex_output.append(text)\n",
    "        elif block.tag.endswith('tbl'):\n",
    "            latex_output.append(\"% Tabela detectada - precisa ser tratada separadamente se necessário\")\n",
    "        elif block.tag.endswith('drawing'):\n",
    "            # Inserção de imagem (associada ao fluxo)\n",
    "            if image_index < len(image_map):\n",
    "                img_file = image_map[image_index]\n",
    "                image_index += 1\n",
    "                latex_output.append(f\"\\\\begin{{figure}}[H]\\n\\\\centering\\n\\\\includegraphics[width=0.8\\\\textwidth]{{{image_output_dir}/{img_file}}}\\n\\\\end{{figure}}\")\n",
    "    \"\"\"\n",
    "    return '\\n\\n'.join(latex_output)\n",
    "\n",
    "\n",
    "latex_content = docx_to_latex(\"sources/Frigel.docx\")\n",
    "latex_content"
   ]
  }
 ],
 "metadata": {
  "kernelspec": {
   "display_name": ".env",
   "language": "python",
   "name": "python3"
  },
  "language_info": {
   "codemirror_mode": {
    "name": "ipython",
    "version": 3
   },
   "file_extension": ".py",
   "mimetype": "text/x-python",
   "name": "python",
   "nbconvert_exporter": "python",
   "pygments_lexer": "ipython3",
   "version": "3.9.13"
  }
 },
 "nbformat": 4,
 "nbformat_minor": 2
}
